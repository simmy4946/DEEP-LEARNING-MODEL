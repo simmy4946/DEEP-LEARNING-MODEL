{
 "cells": [
  {
   "cell_type": "code",
   "execution_count": null,
   "id": "e06e33a9",
   "metadata": {},
   "outputs": [],
   "source": [
    "IMPORT LIBRARIES"
   ]
  },
  {
   "cell_type": "code",
   "execution_count": 1,
   "id": "ca405c5e",
   "metadata": {},
   "outputs": [],
   "source": [
    "import keras\n",
    "from tensorflow.keras.datasets import mnist\n",
    "from tensorflow.keras.models import Sequential\n",
    "from tensorflow.keras.layers import Dense, Dropout\n",
    "from tensorflow.keras.optimizers import RMSprop, Adam # root mean square propgation\n",
    "from keras.utils import np_utils\n",
    "import numpy as np"
   ]
  },
  {
   "cell_type": "code",
   "execution_count": null,
   "id": "47308930",
   "metadata": {},
   "outputs": [],
   "source": [
    "DEFINING BATCH SIZE, CLASSES AND EPOCHS"
   ]
  },
  {
   "cell_type": "code",
   "execution_count": 2,
   "id": "5a881eb9",
   "metadata": {},
   "outputs": [],
   "source": [
    "batch_size = 128\n",
    "num_classes =10\n",
    "epochs = 20"
   ]
  },
  {
   "cell_type": "code",
   "execution_count": null,
   "id": "a725f071",
   "metadata": {},
   "outputs": [],
   "source": [
    "THE DATA, SPLIT BETWEEN TRAIN AND TEST SETS"
   ]
  },
  {
   "cell_type": "code",
   "execution_count": 7,
   "id": "a29022b0",
   "metadata": {},
   "outputs": [],
   "source": [
    "(x_train, y_train), (x_test, y_test)= mnist.load_data()\n",
    "x_train = x_train.reshape(60000, 784)\n",
    "x_test = x_test.reshape(10000, 784)\n",
    "x_train = x_train.astype('float32')\n",
    "x_test =x_test.astype('float32')\n",
    "x_train /=255.0\n",
    "x_test /=255.0\n"
   ]
  },
  {
   "cell_type": "code",
   "execution_count": null,
   "id": "a8bca032",
   "metadata": {},
   "outputs": [],
   "source": [
    "PRINT THE SHAPE OF THE DATA"
   ]
  },
  {
   "cell_type": "code",
   "execution_count": 8,
   "id": "3c2dd65b",
   "metadata": {},
   "outputs": [
    {
     "name": "stdout",
     "output_type": "stream",
     "text": [
      "60000 train samples\n",
      "10000 test samples\n"
     ]
    }
   ],
   "source": [
    "print(x_train.shape[0], 'train samples')\n",
    "print(x_test.shape[0], 'test samples')"
   ]
  },
  {
   "cell_type": "code",
   "execution_count": null,
   "id": "84e1db5d",
   "metadata": {},
   "outputs": [],
   "source": [
    "CONVERT CLASS VECTORS TO BINARY CLASS METRICS"
   ]
  },
  {
   "cell_type": "code",
   "execution_count": 9,
   "id": "236e189e",
   "metadata": {},
   "outputs": [
    {
     "data": {
      "text/plain": [
       "5"
      ]
     },
     "execution_count": 9,
     "metadata": {},
     "output_type": "execute_result"
    }
   ],
   "source": [
    "y_train[0]"
   ]
  },
  {
   "cell_type": "code",
   "execution_count": 10,
   "id": "9aa1c803",
   "metadata": {},
   "outputs": [],
   "source": [
    "y_train = keras.utils.np_utils.to_categorical(y_train, num_classes)\n",
    "y_test = keras.utils.np_utils.to_categorical(y_test, num_classes)"
   ]
  },
  {
   "cell_type": "code",
   "execution_count": 11,
   "id": "eff24f56",
   "metadata": {},
   "outputs": [
    {
     "data": {
      "text/plain": [
       "array([0., 0., 0., 0., 0., 1., 0., 0., 0., 0.], dtype=float32)"
      ]
     },
     "execution_count": 11,
     "metadata": {},
     "output_type": "execute_result"
    }
   ],
   "source": [
    "y_train[0]"
   ]
  },
  {
   "cell_type": "code",
   "execution_count": null,
   "id": "a96f84f7",
   "metadata": {},
   "outputs": [],
   "source": [
    "BUILD THE MODEL"
   ]
  },
  {
   "cell_type": "code",
   "execution_count": 12,
   "id": "b4a74b97",
   "metadata": {},
   "outputs": [
    {
     "name": "stdout",
     "output_type": "stream",
     "text": [
      "Model: \"sequential\"\n",
      "_________________________________________________________________\n",
      " Layer (type)                Output Shape              Param #   \n",
      "=================================================================\n",
      " dense (Dense)               (None, 512)               401920    \n",
      "                                                                 \n",
      " dropout (Dropout)           (None, 512)               0         \n",
      "                                                                 \n",
      " dense_1 (Dense)             (None, 512)               262656    \n",
      "                                                                 \n",
      " dropout_1 (Dropout)         (None, 512)               0         \n",
      "                                                                 \n",
      " dense_2 (Dense)             (None, 10)                5130      \n",
      "                                                                 \n",
      "=================================================================\n",
      "Total params: 669,706\n",
      "Trainable params: 669,706\n",
      "Non-trainable params: 0\n",
      "_________________________________________________________________\n"
     ]
    }
   ],
   "source": [
    "model = Sequential()\n",
    "model.add(Dense(512, activation='relu', input_shape=(784,)))\n",
    "model.add(Dropout(0.2))\n",
    "model.add(Dense(512, activation= 'relu'))\n",
    "model.add(Dropout(0.2))\n",
    "model.add(Dense(num_classes, activation= 'softmax'))\n",
    "\n",
    "model.summary()"
   ]
  },
  {
   "cell_type": "code",
   "execution_count": null,
   "id": "479f5549",
   "metadata": {},
   "outputs": [],
   "source": [
    "COMPILE THE MODEL"
   ]
  },
  {
   "cell_type": "code",
   "execution_count": 13,
   "id": "07739720",
   "metadata": {},
   "outputs": [],
   "source": [
    "model.compile(loss= 'categorical_crossentropy',\n",
    "             optimizer=Adam(learning_rate=0.1),\n",
    "              metrics=['accuracy'])"
   ]
  },
  {
   "cell_type": "code",
   "execution_count": null,
   "id": "4af8ee07",
   "metadata": {},
   "outputs": [],
   "source": [
    "FIT THE MODEL"
   ]
  },
  {
   "cell_type": "code",
   "execution_count": 15,
   "id": "b10185a7",
   "metadata": {},
   "outputs": [
    {
     "name": "stdout",
     "output_type": "stream",
     "text": [
      "Epoch 1/20\n",
      "469/469 [==============================] - 12s 21ms/step - loss: 4.8533 - accuracy: 0.1680 - val_loss: 2.1185 - val_accuracy: 0.1796\n",
      "Epoch 2/20\n",
      "469/469 [==============================] - 9s 18ms/step - loss: 2.1768 - accuracy: 0.1630 - val_loss: 2.1062 - val_accuracy: 0.1755\n",
      "Epoch 3/20\n",
      "469/469 [==============================] - 9s 19ms/step - loss: 2.1369 - accuracy: 0.1733 - val_loss: 1.9757 - val_accuracy: 0.2279\n",
      "Epoch 4/20\n",
      "469/469 [==============================] - 9s 20ms/step - loss: 2.0849 - accuracy: 0.1829 - val_loss: 1.8590 - val_accuracy: 0.2669\n",
      "Epoch 5/20\n",
      "469/469 [==============================] - 9s 19ms/step - loss: 2.0569 - accuracy: 0.1866 - val_loss: 1.8851 - val_accuracy: 0.2371\n",
      "Epoch 6/20\n",
      "469/469 [==============================] - 9s 19ms/step - loss: 2.0488 - accuracy: 0.1916 - val_loss: 1.9034 - val_accuracy: 0.2471\n",
      "Epoch 7/20\n",
      "469/469 [==============================] - 9s 18ms/step - loss: 2.0550 - accuracy: 0.1893 - val_loss: 1.8505 - val_accuracy: 0.2457\n",
      "Epoch 8/20\n",
      "469/469 [==============================] - 9s 19ms/step - loss: 2.0516 - accuracy: 0.1883 - val_loss: 1.9321 - val_accuracy: 0.2049\n",
      "Epoch 9/20\n",
      "469/469 [==============================] - 9s 19ms/step - loss: 2.0472 - accuracy: 0.1904 - val_loss: 1.8940 - val_accuracy: 0.2240\n",
      "Epoch 10/20\n",
      "469/469 [==============================] - 9s 19ms/step - loss: 2.0530 - accuracy: 0.1857 - val_loss: 1.9499 - val_accuracy: 0.2258\n",
      "Epoch 11/20\n",
      "469/469 [==============================] - 9s 19ms/step - loss: 2.0515 - accuracy: 0.1881 - val_loss: 1.8952 - val_accuracy: 0.2226\n",
      "Epoch 12/20\n",
      "469/469 [==============================] - 9s 19ms/step - loss: 2.0542 - accuracy: 0.1871 - val_loss: 1.8863 - val_accuracy: 0.2268\n",
      "Epoch 13/20\n",
      "469/469 [==============================] - 9s 20ms/step - loss: 2.0621 - accuracy: 0.1885 - val_loss: 1.9202 - val_accuracy: 0.2001\n",
      "Epoch 14/20\n",
      "469/469 [==============================] - 9s 19ms/step - loss: 2.0541 - accuracy: 0.1882 - val_loss: 1.8822 - val_accuracy: 0.2687\n",
      "Epoch 15/20\n",
      "469/469 [==============================] - 9s 19ms/step - loss: 2.0474 - accuracy: 0.1878 - val_loss: 1.8444 - val_accuracy: 0.2328\n",
      "Epoch 16/20\n",
      "469/469 [==============================] - 9s 19ms/step - loss: 2.0625 - accuracy: 0.1872 - val_loss: 1.9159 - val_accuracy: 0.2428\n",
      "Epoch 17/20\n",
      "469/469 [==============================] - 9s 20ms/step - loss: 2.0460 - accuracy: 0.1891 - val_loss: 1.8710 - val_accuracy: 0.2307\n",
      "Epoch 18/20\n",
      "469/469 [==============================] - 9s 20ms/step - loss: 2.0448 - accuracy: 0.1874 - val_loss: 1.8706 - val_accuracy: 0.2609\n",
      "Epoch 19/20\n",
      "469/469 [==============================] - 9s 20ms/step - loss: 2.2508 - accuracy: 0.1236 - val_loss: 2.3054 - val_accuracy: 0.0980\n",
      "Epoch 20/20\n",
      "469/469 [==============================] - 9s 19ms/step - loss: 2.3121 - accuracy: 0.1045 - val_loss: 2.3056 - val_accuracy: 0.1028\n"
     ]
    }
   ],
   "source": [
    "history = model.fit(x_train, y_train,\n",
    "                   batch_size=batch_size,\n",
    "                   epochs=epochs,\n",
    "                   verbose=1,\n",
    "                   validation_data=(x_test, y_test))\n",
    "score = model.evaluate(x_test ,y_test, verbose=0)                   \n",
    "                "
   ]
  },
  {
   "cell_type": "code",
   "execution_count": 19,
   "id": "67a1d8e3",
   "metadata": {},
   "outputs": [
    {
     "name": "stdout",
     "output_type": "stream",
     "text": [
      "Test loss: 2.3056278228759766\n",
      "Test accuracy: 0.10279999673366547\n"
     ]
    }
   ],
   "source": [
    "print('Test loss:', score[0])\n",
    "print('Test accuracy:', score[1])\n"
   ]
  },
  {
   "cell_type": "code",
   "execution_count": null,
   "id": "a10676b3",
   "metadata": {},
   "outputs": [],
   "source": []
  }
 ],
 "metadata": {
  "kernelspec": {
   "display_name": "Python 3",
   "language": "python",
   "name": "python3"
  },
  "language_info": {
   "codemirror_mode": {
    "name": "ipython",
    "version": 3
   },
   "file_extension": ".py",
   "mimetype": "text/x-python",
   "name": "python",
   "nbconvert_exporter": "python",
   "pygments_lexer": "ipython3",
   "version": "3.8.8"
  }
 },
 "nbformat": 4,
 "nbformat_minor": 5
}
